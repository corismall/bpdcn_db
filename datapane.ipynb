{
 "cells": [
  {
   "cell_type": "code",
   "execution_count": 37,
   "metadata": {},
   "outputs": [],
   "source": [
    "import datapane as dp\n",
    "import altair as alt \n",
    "import psycopg2\n",
    "import pandas as pd\n",
    "\n",
    "# Connect to your postgres DB\n",
    "conn = psycopg2.connect(dbname = 'BPDCN', user = 'postgres', password = 'ohgami')"
   ]
  },
  {
   "cell_type": "code",
   "execution_count": 38,
   "metadata": {},
   "outputs": [],
   "source": [
    "# Execute a query\n",
    "\n",
    "table = 'test.patient_therapy'\n",
    "sql_str = \"SELECT * FROM \" + table +\";\"\n",
    "\n",
    "#cur.execute(\"SELECT paper_number, patient, ipox, fc, cd3c, cd3s, cd4, cd56, cd123_il3r FROM granular_case_data_schema.cd_markers;\")\n",
    "\n",
    "\n",
    "\n",
    "\n"
   ]
  },
  {
   "cell_type": "code",
   "execution_count": 39,
   "metadata": {},
   "outputs": [
    {
     "name": "stdout",
     "output_type": "stream",
     "text": [
      "Opened database successfully\n",
      "   paper_number  patient                                    initial_therapy  \\\n",
      "0           195        2   high-risk acute lymphoblastic leukemia therap...   \n",
      "1           198        1                                     Hyper-CCVP 3 ×   \n",
      "2           198        2                                     Hyper-CCVP 4 ×   \n",
      "3           198        3                                     Hyper-CCVP 2 ×   \n",
      "4           198        4  CHOP+intrathecal liposomal cytarabine 5 × , CH...   \n",
      "5           198        5                                     4 × Hyper-CVAD   \n",
      "6           231        3           Induction and consolidation chemotherapy   \n",
      "7            49        1                                               CHOP   \n",
      "8            49        4                                               CHOP   \n",
      "9            85        1  one course each of CODOX-M (cyclophosphamide, ...   \n",
      "\n",
      "  stemcell_transplant  overall_survival  progression_free death  \n",
      "0                   1              68.0              3.33     0  \n",
      "1                   1              18.0             16.00     0  \n",
      "2                   1              20.0             13.00     0  \n",
      "3                   1              21.0             18.00     0  \n",
      "4                   1              39.0              7.00     1  \n",
      "5                   1              30.0             27.00     0  \n",
      "6                   1              10.0             10.00     1  \n",
      "7                   0              28.0             10.00     1  \n",
      "8                   1               4.0              4.00     1  \n",
      "9                   1              49.0             44.00     0  \n"
     ]
    }
   ],
   "source": [
    "# Retrieve query results\n",
    "data = pd.read_sql_query(sql_str,conn)\n",
    "\n",
    "conn = None\n",
    "\n",
    "print('Opened database successfully')\n",
    "print(data)"
   ]
  },
  {
   "cell_type": "code",
   "execution_count": 40,
   "metadata": {},
   "outputs": [],
   "source": [
    "#df = pd.DataFrame(records)\n",
    "#df.columns = ['paper_number', 'patient', 'ipox', 'fc', 'cd3c', 'cd3s', 'cd4', 'cd56', 'cd123_il3r']\n"
   ]
  },
  {
   "cell_type": "code",
   "execution_count": 41,
   "metadata": {},
   "outputs": [],
   "source": [
    "'''chart = alt.Chart(data).mark_point().encode(\n",
    "  x= ['cd3c','cd3s', 'cd4','cd56','cd123_il3r'],\n",
    "  y='TRANSFUSION_INSTANCE'\n",
    ").interactive()'''\n",
    "\n",
    "r = dp.Report(dp.DataTable(data))\n",
    "r.save(path= '/Users/corinnsmall/Documents/BPDCN/datapane/' + table + '.html', open=True)"
   ]
  }
 ],
 "metadata": {
  "kernelspec": {
   "display_name": "Python 3",
   "language": "python",
   "name": "python3"
  },
  "language_info": {
   "codemirror_mode": {
    "name": "ipython",
    "version": 3
   },
   "file_extension": ".py",
   "mimetype": "text/x-python",
   "name": "python",
   "nbconvert_exporter": "python",
   "pygments_lexer": "ipython3",
   "version": "3.9.1"
  }
 },
 "nbformat": 4,
 "nbformat_minor": 4
}
