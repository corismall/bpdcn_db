{
 "cells": [
  {
   "cell_type": "code",
   "execution_count": 8,
   "metadata": {},
   "outputs": [
    {
     "name": "stdout",
     "output_type": "stream",
     "text": [
      "\n"
     ]
    },
    {
     "data": {
      "text/plain": [
       "paper_number          float64\n",
       "patient               float64\n",
       "ipox                   object\n",
       "fc                     object\n",
       "ae1_ae3               float64\n",
       "                       ...   \n",
       "ntdt                  float64\n",
       "tia1                  float64\n",
       "mast_cell_tryptase    float64\n",
       "tslp_receptor         float64\n",
       "wt1                   float64\n",
       "Length: 173, dtype: object"
      ]
     },
     "execution_count": 8,
     "metadata": {},
     "output_type": "execute_result"
    }
   ],
   "source": [
    "import psycopg2\n",
    "from psycopg2 import OperationalError\n",
    "import pandas as pd\n",
    "\n",
    "\n",
    "sheet = pd.read_excel('/Users/corinnsmall/Documents/BPDCN/spreadsheets/bpdcn_draft_1.xlsx', sheet_name = 'granular_data_binary')  #read in excel sheet\n",
    "\n",
    "cd_markers = sheet[['paper_number','patient','ipox','fc','ae1_ae3','alk','ana','bdca1','bdca2',\n",
    "                    'bdca3','bdca4','bcl1','bcl2','bcl6','bcl11a','betaf1','cae','cam5_2','cd1a','cd2',\n",
    "                    'cd2ap','cd3c','cd3s','cd4','cd5','cd7','cd8','cd10','cd11','cd11b','cd11c','cd13',\n",
    "                    'ccd13','cd14','cd15_leum1','cd16','cd19','cd20_l26','cd21','cd22','cd22c','cd23',\n",
    "                    'cd24','cd25','cd26','cd30_ki1','cd33','cd34','cd35','cd36','cd38','cd41','cd42b',\n",
    "                    'cd43_mt1', 'cd45_lca', 'cd45ra', 'cd45ro_uchl1', 'cd52', 'cd56', 'cd57', 'cd58', 'cd61', \n",
    "                    'cd62l', 'cd64', 'cd65', 'cdw65', 'cd66c', 'cd67', 'cd68_kp1', 'cd68_pgm1', 'cd71', \n",
    "                    'cd74', 'cd75', 'cd79a', 'cd83', 'cd94', 'cd99_mic2', 'cd103', 'cd117', 'cd122', \n",
    "                    'cd123_il3r', 'cd135', 'cd138', 'cd161', 'cd163', 'cd235a', 'cd302', 'cd303_bdca2',\n",
    "                    'cd304', 'cga', 'che', 'chromagranin_a', 'ck20', 'c_kappa', 'ckit', 'c_lambda', 'cla', \n",
    "                    'cs1_4_lmp', 'cxcl13', 'cxcr3', 'cycd1', 'cycd3', 'cyclina_index', 'cyclinb_index', \n",
    "                    'ebv', 'ema', 'estrogen_receptor', 'fascin', 'fmc7', 'granzyme_b', 'heca_452', \n",
    "                    'her_2_neu', 'hla_dr', 'hmb_45', 'iga', 'igd', 'igg', 'igh', 'igk', 'igl', 'igm', 'ilt3',\n",
    "                    'ilt7', 'cilt7', 'ip10', 'keratin', 'cytkeratin_7', 'ki67_mib1', 'langerin', 'lca',\n",
    "                    'lilra4', 'lin', 'lysozyme_muramidase', 'mac387', 'melana', 'mnda', 'cytmpo', 'mpo',\n",
    "                    'mpx', 'mum1', 'myc', 'mxa', 'mx1', 'ng2', 'nk_activity', 'npm', 'non_specific_esterase',\n",
    "                    'p16', 'p27', 'pas', 'pax5', 'pd1_cd279', 'pd_l1_cd274', 'progesterone_receptor',\n",
    "                    'prf1', 's100', 'sall4', 'sudan_black_b', 'specific_esterase', 'sox11', 'tcl1', \n",
    "                    'tcl1_mfir', 'tcr', 'tcr_alpha', 'tcr_beta', 'tcr_delta', 'tcr_gamma', 'tdt', 'ntdt',\n",
    "                    'tia1', 'mast_cell_tryptase', 'tslp_receptor', 'wt1']]\n",
    "\n",
    "cd_markers.convert_dtypes(convert_integer = True)\n"
   ]
  },
  {
   "cell_type": "code",
   "execution_count": null,
   "metadata": {},
   "outputs": [],
   "source": [
    "def create_connection(db_name, db_user, db_password, db_host, db_port):\n",
    "    connection = None\n",
    "    try:\n",
    "        connection = psycopg2.connect(\n",
    "            database=db_name,\n",
    "            user=db_user,\n",
    "            password=db_password,\n",
    "            host=db_host,\n",
    "            port=db_port,\n",
    "        )\n",
    "        print(\"Connection to PostgreSQL DB successful\")\n",
    "    except OperationalError as e:\n",
    "        print(f\"The error '{e}' occurred\")\n",
    "    return connection\n",
    "\n",
    "\n",
    "\n",
    "\n",
    "\n",
    "\n",
    "\n",
    "\n",
    "\n",
    "\n",
    "\n",
    "\n",
    "\n",
    "\n",
    "\n",
    "\n",
    "conn = psycopg2.connect(dbname = 'BPDCN', user = 'postgres', password = 'ohgami')  # Connect to postgres DB\n",
    "cur = conn.cursor()  # Open a cursor to perform database operations\n",
    "\n",
    "# Execute queries\n",
    "#cur.execute('CREATE TABLE summary_data_schema.test (id serial PRIMARY KEY, num integer, data varchar);')\n",
    "\n",
    "cur.execute('INSERT INTO granular_case_data_schema.cd_markers1 (paper_number,patient,ipox,fc,ae1_ae3,\n",
    "            alk,ana,bdca1,bdca2,bdca3,bdca4,bcl1,bcl2,bcl6,bcl11a,betaf1,cae,cam5_2,cd1a,cd2,cd2ap,\n",
    "            cd3c,cd3s,cd4,cd5,cd7,cd8,cd10,cd11,cd11b,cd11c,cd13,ccd13,cd14,cd15_leum1,cd16,cd19,\n",
    "            cd20_l26,cd21,cd22,cd22c,cd23,cd24,cd25,cd26,cd30_ki1,cd33,cd34,cd35,cd36,cd38,cd41,cd42b,\n",
    "            cd43_mt1,cd45_lca,cd45ra,cd45ro_uchl1,cd52,cd56,cd57,cd58,cd61,cd62l,cd64,cd65,cdw65,cd66c,\n",
    "            cd67,cd68_kp1,cd68_pgm1,cd71,cd74,cd75,cd79a,cd83,cd94,cd99_mic2,cd103,cd117,cd122,cd123_il3r,\n",
    "            cd135,cd138,cd161,cd163,cd235a,cd302,cd303_bdca2,cd304,cga,che,chromagranin_a,ck20,c_kappa,\n",
    "            ckit,c_lambda,cla,cs1_4_lmp,cxcl13,cxcr3,cycd1,cycd3,cyclina_index,cyclinb_index,ebv,ema,\n",
    "            estrogen_receptor,fascin,fmc7,granzyme_b,heca_452,her_2_neu,hla_dr,hmb_45,iga,igd,igg,igh,\n",
    "            igk,igl,igm,ilt3,ilt7,cilt7,ip10,keratin,cytkeratin_7,ki67_mib1,langerin,lca,lilra4,lin,\n",
    "            lysozyme_muramidase,mac387,melana,mnda,cytmpo,mpo,mpx,mum1,myc,mxa,mx1,ng2,nk_activity,npm,\n",
    "            non_specific_esterase,p16,p27,pas,pax5,pd1_cd279,pd_l1_cd274,progesterone_receptor,prf1,\n",
    "            s100,sall4,sudan_black_b,specific_esterase,sox11,tcl1,tcl1_mfir,tcr,tcr_alpha,tcr_beta,\n",
    "            tcr_delta,tcr_gamma,tdt,ntdt,tia1,mast_cell_tryptase,tslp_receptor,wt1) VALUES (%s, %s)', (100, \"abc'def\"))  # Pass data to fill a query placeholders and let Psycopg perform the correct conversion (no more SQL injections!)\n",
    "\n",
    "#cur.execute(\"\\copy test(num,data) FROM '/Users/corinnsmall/Documents/BPDCN/spreadsheets' DELIMITER ',' CSV\")\n",
    "\n",
    "cur.execute(\"SELECT * FROM test;\")\n",
    "\n",
    "tuple_ = cur.fetchone()\n",
    "print(tuple_)\n",
    "\n",
    "conn.commit()\n",
    "cur.close()\n",
    "conn.close()\n",
    "\n",
    "#cur.execute('SELECT * FROM summary_data_schema.sum_draft1')\n",
    "\n",
    "# Retrieve query results\n",
    "#records = cur.fetchall()\n",
    "#print(records)'''"
   ]
  }
 ],
 "metadata": {
  "kernelspec": {
   "name": "python391jvsc74a57bd0aee8b7b246df8f9039afb4144a1f6fd8d2ca17a180786b69acc140d282b71a49",
   "display_name": "Python 3.9.1 64-bit"
  },
  "language_info": {
   "codemirror_mode": {
    "name": "ipython",
    "version": 3
   },
   "file_extension": ".py",
   "mimetype": "text/x-python",
   "name": "python",
   "nbconvert_exporter": "python",
   "pygments_lexer": "ipython3",
   "version": "3.9.1"
  }
 },
 "nbformat": 4,
 "nbformat_minor": 4
}